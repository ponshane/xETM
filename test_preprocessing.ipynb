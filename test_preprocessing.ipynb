{
 "cells": [
  {
   "cell_type": "code",
   "execution_count": 1,
   "metadata": {},
   "outputs": [],
   "source": [
    "from src.preprocessing.format_txt_into_mat import format_from_text"
   ]
  },
  {
   "cell_type": "code",
   "execution_count": 2,
   "metadata": {},
   "outputs": [
    {
     "name": "stdout",
     "output_type": "stream",
     "text": [
      "counting document frequency of words...\n",
      "building the vocabulary...\n",
      "\tinitial vocabulary size: 6147\n",
      "tokenizing documents and splitting into train/test/valid...\n",
      "  vocabulary after removing words not in train: 6147\n",
      "  number of documents (train): 42500 [this should be equal to 42500]\n",
      "  number of documents (test): 5000 [this should be equal to 5000]\n",
      "  number of documents (valid): 2500 [this should be equal to 2500]\n",
      "removing empty documents...\n",
      "splitting test documents in 2 halves...\n",
      "creating lists of words_indices/doc_indices for docs_tr\n",
      "  len(words_indices_tr): 247078\n",
      "  len(np.unique(doc_indices_tr)): 42222 [this should be 42222]\n",
      "creating bow representation for docs_tr\n",
      "creating lists of words_indices/doc_indices for docs_ts\n",
      "  len(words_indices_ts): 28934\n",
      "  len(np.unique(doc_indices_ts)): 4720 [this should be 4720]\n",
      "creating bow representation for docs_ts\n",
      "creating lists of words_indices/doc_indices for docs_ts_h1\n",
      "  len(words_indices_ts_h1): 13353\n",
      "  len(np.unique(doc_indices_ts_h1)): 4720 [this should be 4720]\n",
      "creating bow representation for docs_ts_h1\n",
      "creating lists of words_indices/doc_indices for docs_ts_h2\n",
      "  len(words_indices_ts_h2): 15581\n",
      "  len(np.unique(doc_indices_ts_h2)): 4720 [this should be 4720]\n",
      "creating bow representation for docs_ts_h2\n",
      "creating lists of words_indices/doc_indices for docs_va\n",
      "  len(words_indices_va): 14689\n",
      "  len(np.unique(doc_indices_va)): 2477 [this should be 2477]\n",
      "creating bow representation for docs_va\n",
      "splitting bow into token/value pairs and saving to disk...\n"
     ]
    },
    {
     "name": "stderr",
     "output_type": "stream",
     "text": [
      "/home/ponshane/miniconda3/envs/xetm/lib/python3.6/site-packages/numpy/core/_asarray.py:136: VisibleDeprecationWarning: Creating an ndarray from ragged nested sequences (which is a list-or-tuple of lists-or-tuples-or ndarrays with different lengths or shapes) is deprecated. If you meant to do this, you must specify 'dtype=object' when creating the ndarray\n",
      "  return array(a, dtype, copy=False, order=order, subok=True)\n"
     ]
    }
   ],
   "source": [
    "path_text = \"/home/ponshane/Data/UM-Corpus/50K_Corpus.txt\"\n",
    "path_save = \"./out/\"\n",
    "format_from_text(path_text, path_save, norm=False, max_df=0.7, min_df=10, ratio={\"training\":0.85, \"testing\": 0.1})"
   ]
  }
 ],
 "metadata": {
  "kernelspec": {
   "display_name": "Python 3.6.7 ('xetm')",
   "language": "python",
   "name": "python3"
  },
  "language_info": {
   "codemirror_mode": {
    "name": "ipython",
    "version": 3
   },
   "file_extension": ".py",
   "mimetype": "text/x-python",
   "name": "python",
   "nbconvert_exporter": "python",
   "pygments_lexer": "ipython3",
   "version": "3.6.7"
  },
  "orig_nbformat": 4,
  "vscode": {
   "interpreter": {
    "hash": "ef288838f1dfab35c3e4e992237c13dea14c7294119a5b9dfcf57349e1bd2228"
   }
  }
 },
 "nbformat": 4,
 "nbformat_minor": 2
}
