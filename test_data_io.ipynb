{
 "cells": [
  {
   "cell_type": "code",
   "execution_count": 1,
   "metadata": {},
   "outputs": [],
   "source": [
    "from src.model.data import get_data, get_batch\n",
    "import os\n",
    "import torch"
   ]
  },
  {
   "cell_type": "code",
   "execution_count": 17,
   "metadata": {},
   "outputs": [],
   "source": [
    "data_path = \"out\"\n",
    "## get data\n",
    "# 1. vocabulary\n",
    "vocab, train, _, _ = get_data(os.path.join(data_path))\n",
    "\n",
    "vocab_size = len(vocab)\n",
    "vocab_size = vocab_size\n",
    "\n",
    "# 1. training data\n",
    "train_tokens = train['tokens']\n",
    "train_counts = train['counts']\n",
    "num_docs_train = len(train_tokens)"
   ]
  },
  {
   "cell_type": "code",
   "execution_count": 18,
   "metadata": {},
   "outputs": [
    {
     "name": "stdout",
     "output_type": "stream",
     "text": [
      "6147 42222\n"
     ]
    }
   ],
   "source": [
    "print(vocab_size, num_docs_train)"
   ]
  },
  {
   "cell_type": "code",
   "execution_count": 4,
   "metadata": {},
   "outputs": [
    {
     "name": "stdout",
     "output_type": "stream",
     "text": [
      "Indices list size: 351, per batch size: 32\n",
      "torch.Size([32, 18626])\n",
      "tensor(183., device='cuda:0')\n",
      "torch.Size([32, 1])\n",
      "torch.Size([32, 18626])\n",
      "tensor(1.0000, device='cuda:0')\n"
     ]
    }
   ],
   "source": [
    "batch_size = 32\n",
    "device = torch.device(\"cuda\" if torch.cuda.is_available() else \"cpu\")\n",
    "\n",
    "indices = torch.randperm(num_docs_train)\n",
    "indices = torch.split(indices, batch_size)\n",
    "print(\"Indices list size: {}, per batch size: {}\".format(len(indices), len(indices[0])))\n",
    "for idx, ind in enumerate(indices):\n",
    "    data_batch = get_batch(train_tokens, train_counts, ind, vocab_size, device)\n",
    "    print(data_batch.shape)\n",
    "    print(data_batch[0].sum())\n",
    "    sums = data_batch.sum(1).unsqueeze(1)\n",
    "    print(sums.shape) # should equal to batch size\n",
    "    normalized_data_batch = data_batch / sums\n",
    "    print(normalized_data_batch.shape)\n",
    "    print(normalized_data_batch[0].sum())\n",
    "\n",
    "    break"
   ]
  }
 ],
 "metadata": {
  "kernelspec": {
   "display_name": "Python 3.6.7 ('xetm')",
   "language": "python",
   "name": "python3"
  },
  "language_info": {
   "codemirror_mode": {
    "name": "ipython",
    "version": 3
   },
   "file_extension": ".py",
   "mimetype": "text/x-python",
   "name": "python",
   "nbconvert_exporter": "python",
   "pygments_lexer": "ipython3",
   "version": "3.6.7"
  },
  "orig_nbformat": 4,
  "vscode": {
   "interpreter": {
    "hash": "ef288838f1dfab35c3e4e992237c13dea14c7294119a5b9dfcf57349e1bd2228"
   }
  }
 },
 "nbformat": 4,
 "nbformat_minor": 2
}
